{
  "cells": [
    {
      "cell_type": "markdown",
      "metadata": {
        "id": "view-in-github",
        "colab_type": "text"
      },
      "source": [
        "<a href=\"https://colab.research.google.com/github/Swaraj9/FIRS_Models/blob/main/FIRS.ipynb\" target=\"_parent\"><img src=\"https://colab.research.google.com/assets/colab-badge.svg\" alt=\"Open In Colab\"/></a>"
      ]
    },
    {
      "cell_type": "code",
      "execution_count": null,
      "metadata": {
        "id": "3e__g8IQDT_j"
      },
      "outputs": [],
      "source": [
        "#Imports\n",
        "import torch\n",
        "import torchvision\n",
        "\n",
        "from torchvision.datasets import Food101\n",
        "from torch.utils.data import DataLoader\n",
        "from torchvision import transforms"
      ]
    },
    {
      "cell_type": "code",
      "execution_count": null,
      "metadata": {
        "colab": {
          "base_uri": "https://localhost:8080/",
          "height": 35
        },
        "id": "Epj9C-uMFe23",
        "outputId": "a42ce284-3faa-4ebb-f5ea-c73fbe56039f"
      },
      "outputs": [
        {
          "output_type": "execute_result",
          "data": {
            "text/plain": [
              "'cpu'"
            ],
            "application/vnd.google.colaboratory.intrinsic+json": {
              "type": "string"
            }
          },
          "metadata": {},
          "execution_count": 12
        }
      ],
      "source": [
        "#Device Agnostic Code\n",
        "device = \"cuda\" if torch.cuda.is_available() else \"cpu\"\n",
        "device"
      ]
    },
    {
      "cell_type": "code",
      "execution_count": null,
      "metadata": {
        "id": "tym5IvJLOi4R"
      },
      "outputs": [],
      "source": [
        "!rm -r food-101"
      ]
    },
    {
      "cell_type": "code",
      "execution_count": null,
      "metadata": {
        "colab": {
          "base_uri": "https://localhost:8080/"
        },
        "id": "WSXvm3ZxGBk5",
        "outputId": "bced577b-ec2f-4e66-8d21-ac8a8871464a"
      },
      "outputs": [
        {
          "output_type": "stream",
          "name": "stdout",
          "text": [
            "Donloading the data...\n",
            "--2023-07-20 08:10:14--  http://data.vision.ee.ethz.ch/cvl/food-101.tar.gz\n",
            "Resolving data.vision.ee.ethz.ch (data.vision.ee.ethz.ch)... 129.132.52.178, 2001:67c:10ec:36c2::178\n",
            "Connecting to data.vision.ee.ethz.ch (data.vision.ee.ethz.ch)|129.132.52.178|:80... connected.\n",
            "HTTP request sent, awaiting response... 302 Found\n",
            "Location: https://data.vision.ee.ethz.ch/cvl/food-101.tar.gz [following]\n",
            "--2023-07-20 08:10:14--  https://data.vision.ee.ethz.ch/cvl/food-101.tar.gz\n",
            "Connecting to data.vision.ee.ethz.ch (data.vision.ee.ethz.ch)|129.132.52.178|:443... connected.\n",
            "HTTP request sent, awaiting response... 200 OK\n",
            "Length: 4996278331 (4.7G) [application/x-gzip]\n",
            "Saving to: ‘food-101.tar.gz.2’\n",
            "\n",
            "food-101.tar.gz.2   100%[===================>]   4.65G  22.3MB/s    in 5m 48s  \n",
            "\n",
            "2023-07-20 08:16:03 (13.7 MB/s) - ‘food-101.tar.gz.2’ saved [4996278331/4996278331]\n",
            "\n",
            "Dataset Downloaded\n",
            "Extracting data...\n",
            "\n",
            "gzip: stdin: unexpected end of file\n",
            "tar: Unexpected EOF in archive\n",
            "tar: Unexpected EOF in archive\n",
            "tar: Error is not recoverable: exiting now\n",
            "Extraction done!\n"
          ]
        }
      ],
      "source": [
        "from pathlib import Path\n",
        "import os\n",
        "\n",
        "def getData():\n",
        "  if \"food-101\" in os.listdir():\n",
        "    print(\"Dataset already exists\")\n",
        "  else:\n",
        "    print(\"Donloading the data...\")\n",
        "    !wget http://data.vision.ee.ethz.ch/cvl/food-101.tar.gz\n",
        "    print(\"Dataset Downloaded\")\n",
        "    print(\"Extracting data...\")\n",
        "    !tar xzf food-101.tar.gz\n",
        "    print(\"Extraction done!\")\n",
        "\n",
        "getData()"
      ]
    },
    {
      "cell_type": "code",
      "execution_count": null,
      "metadata": {
        "id": "Xv-t-4VFRnds"
      },
      "outputs": [],
      "source": [
        "from shutil import copy\n",
        "from collections import defaultdict\n",
        "\n",
        "def prepareData(filepath, src, dest):\n",
        "  classesImages = defaultdict(list)\n",
        "  with open(filepath, 'r') as txt:\n",
        "    paths = [read.strip() for read in txt.readlines()]\n",
        "    for p in paths:\n",
        "      food = p.split('/')\n",
        "      classesImages[food[0]].append(food[1] + '.jpg') #{apple_pie: [0000, 00001], ...}\n",
        "\n",
        "  print(\"Copying Images\")\n",
        "  for food in classesImages.keys():\n",
        "    if not os.path.exists(os.path.join(dest,food)):\n",
        "      os.makedirs(os.path.join(dest,food))\n",
        "    for i in classesImages[food]:\n",
        "      copy(os.path.join(src,food,i), os.path.join(dest, food, i))\n",
        "  print(\"Copying Done!\")"
      ]
    },
    {
      "cell_type": "code",
      "execution_count": null,
      "metadata": {
        "colab": {
          "base_uri": "https://localhost:8080/",
          "height": 739
        },
        "id": "Xxypgb2oUVJR",
        "outputId": "4a0e92f0-6f7f-4323-b9bf-d7bd89d554b7"
      },
      "outputs": [
        {
          "output_type": "stream",
          "name": "stdout",
          "text": [
            "Creating train data...\n"
          ]
        },
        {
          "output_type": "error",
          "ename": "FileNotFoundError",
          "evalue": "ignored",
          "traceback": [
            "\u001b[0;31m---------------------------------------------------------------------------\u001b[0m",
            "\u001b[0;31mFileNotFoundError\u001b[0m                         Traceback (most recent call last)",
            "\u001b[0;32m<ipython-input-16-58ea0683f855>\u001b[0m in \u001b[0;36m<cell line: 2>\u001b[0;34m()\u001b[0m\n\u001b[1;32m      1\u001b[0m \u001b[0mprint\u001b[0m\u001b[0;34m(\u001b[0m\u001b[0;34m\"Creating train data...\"\u001b[0m\u001b[0;34m)\u001b[0m\u001b[0;34m\u001b[0m\u001b[0;34m\u001b[0m\u001b[0m\n\u001b[0;32m----> 2\u001b[0;31m \u001b[0mprepareData\u001b[0m\u001b[0;34m(\u001b[0m\u001b[0;34m\"food-101/meta/train.txt\"\u001b[0m\u001b[0;34m,\u001b[0m \u001b[0;34m\"food-101/images\"\u001b[0m\u001b[0;34m,\u001b[0m \u001b[0;34m\"food101/train\"\u001b[0m\u001b[0;34m)\u001b[0m\u001b[0;34m\u001b[0m\u001b[0;34m\u001b[0m\u001b[0m\n\u001b[0m\u001b[1;32m      3\u001b[0m \u001b[0;34m\u001b[0m\u001b[0m\n\u001b[1;32m      4\u001b[0m \u001b[0mprint\u001b[0m\u001b[0;34m(\u001b[0m\u001b[0;34m\"Creating test data...\"\u001b[0m\u001b[0;34m)\u001b[0m\u001b[0;34m\u001b[0m\u001b[0;34m\u001b[0m\u001b[0m\n\u001b[1;32m      5\u001b[0m \u001b[0mprepareData\u001b[0m\u001b[0;34m(\u001b[0m\u001b[0;34m\"food-101/meta/test.txt\"\u001b[0m\u001b[0;34m,\u001b[0m \u001b[0;34m\"food-101/images\"\u001b[0m\u001b[0;34m,\u001b[0m \u001b[0;34m\"food101/test\"\u001b[0m\u001b[0;34m)\u001b[0m\u001b[0;34m\u001b[0m\u001b[0;34m\u001b[0m\u001b[0m\n",
            "\u001b[0;32m<ipython-input-15-8640abc66c69>\u001b[0m in \u001b[0;36mprepareData\u001b[0;34m(filepath, src, dest)\u001b[0m\n\u001b[1;32m      4\u001b[0m \u001b[0;32mdef\u001b[0m \u001b[0mprepareData\u001b[0m\u001b[0;34m(\u001b[0m\u001b[0mfilepath\u001b[0m\u001b[0;34m,\u001b[0m \u001b[0msrc\u001b[0m\u001b[0;34m,\u001b[0m \u001b[0mdest\u001b[0m\u001b[0;34m)\u001b[0m\u001b[0;34m:\u001b[0m\u001b[0;34m\u001b[0m\u001b[0;34m\u001b[0m\u001b[0m\n\u001b[1;32m      5\u001b[0m   \u001b[0mclassesImages\u001b[0m \u001b[0;34m=\u001b[0m \u001b[0mdefaultdict\u001b[0m\u001b[0;34m(\u001b[0m\u001b[0mlist\u001b[0m\u001b[0;34m)\u001b[0m\u001b[0;34m\u001b[0m\u001b[0;34m\u001b[0m\u001b[0m\n\u001b[0;32m----> 6\u001b[0;31m   \u001b[0;32mwith\u001b[0m \u001b[0mopen\u001b[0m\u001b[0;34m(\u001b[0m\u001b[0mfilepath\u001b[0m\u001b[0;34m,\u001b[0m \u001b[0;34m'r'\u001b[0m\u001b[0;34m)\u001b[0m \u001b[0;32mas\u001b[0m \u001b[0mtxt\u001b[0m\u001b[0;34m:\u001b[0m\u001b[0;34m\u001b[0m\u001b[0;34m\u001b[0m\u001b[0m\n\u001b[0m\u001b[1;32m      7\u001b[0m     \u001b[0mpaths\u001b[0m \u001b[0;34m=\u001b[0m \u001b[0;34m[\u001b[0m\u001b[0mread\u001b[0m\u001b[0;34m.\u001b[0m\u001b[0mstrip\u001b[0m\u001b[0;34m(\u001b[0m\u001b[0;34m)\u001b[0m \u001b[0;32mfor\u001b[0m \u001b[0mread\u001b[0m \u001b[0;32min\u001b[0m \u001b[0mtxt\u001b[0m\u001b[0;34m.\u001b[0m\u001b[0mreadlines\u001b[0m\u001b[0;34m(\u001b[0m\u001b[0;34m)\u001b[0m\u001b[0;34m]\u001b[0m\u001b[0;34m\u001b[0m\u001b[0;34m\u001b[0m\u001b[0m\n\u001b[1;32m      8\u001b[0m     \u001b[0;32mfor\u001b[0m \u001b[0mp\u001b[0m \u001b[0;32min\u001b[0m \u001b[0mpaths\u001b[0m\u001b[0;34m:\u001b[0m\u001b[0;34m\u001b[0m\u001b[0;34m\u001b[0m\u001b[0m\n",
            "\u001b[0;31mFileNotFoundError\u001b[0m: [Errno 2] No such file or directory: 'food-101/meta/train.txt'"
          ]
        }
      ],
      "source": [
        "print(\"Creating train data...\")\n",
        "prepareData(\"food-101/meta/train.txt\", \"food-101/images\", \"food101/train\")\n",
        "\n",
        "print(\"Creating test data...\")\n",
        "prepareData(\"food-101/meta/test.txt\", \"food-101/images\", \"food101/test\")"
      ]
    },
    {
      "cell_type": "code",
      "source": [
        "from shutil import copytree, rmtree\n",
        "def datasetMini(foodList, src, dest):\n",
        "  if os.path.exists(dest):\n",
        "    rmtree(dest)\n",
        "  os.makedirs(dest)\n",
        "  for foodItem in foodList:\n",
        "    print(\"Copying images into\", foodItem)\n",
        "    copytree(os.path.join(src, foodItem), os.path.join(dest, foodItem))"
      ],
      "metadata": {
        "id": "GC_i6ni-rkcj"
      },
      "execution_count": null,
      "outputs": []
    },
    {
      "cell_type": "code",
      "source": [
        "foodList = [\"samosa\", \"pizza\", \"omelette\"]\n",
        "srcTrain = \"food101/train\"\n",
        "destTrain = \"food101/trainMini\"\n",
        "srcTest = \"food101/test\"\n",
        "destTest = \"food101/testMini\"\n",
        "\n",
        "print(\"Creating mini train and test sets...\")\n",
        "datasetMini(foodList, srcTrain, destTrain)\n",
        "datasetMini(foodList, srcTest, destTest)"
      ],
      "metadata": {
        "id": "bTP6HCGTtFKF"
      },
      "execution_count": null,
      "outputs": []
    },
    {
      "cell_type": "code",
      "execution_count": null,
      "metadata": {
        "id": "V7RknNPGVa-q"
      },
      "outputs": [],
      "source": [
        "from torchvision import datasets\n",
        "\n",
        "trainTransforms = transforms.Compose([\n",
        "    transforms.RandomResizedCrop(224),\n",
        "    transforms.RandomHorizontalFlip(),\n",
        "    transforms.ToTensor(),\n",
        "    transforms.Normalize(mean=[0.485, 0.456, 0.406],\n",
        "                     std=[0.229, 0.224, 0.225])\n",
        "])\n",
        "\n",
        "testTransforms = transforms.Compose([\n",
        "    transforms.Resize(256),\n",
        "    transforms.CenterCrop(224),\n",
        "    transforms.ToTensor(),\n",
        "    transforms.Normalize(mean=[0.485, 0.456, 0.406],\n",
        "                     std=[0.229, 0.224, 0.225])\n",
        "])\n",
        "\n",
        "trainData = datasets.ImageFolder(root=\"food101/train\", transform=trainTransforms)\n",
        "testData = datasets.ImageFolder(root=\"food101/test\", transform=testTransforms)\n",
        "trainDataMini = datasets.ImageFolder(root=\"food101/trainMini\", transform=trainTransforms)\n",
        "testDataMini = datasets.ImageFolder(root=\"food101/testMini\", transform=testTransforms)"
      ]
    },
    {
      "cell_type": "code",
      "execution_count": null,
      "metadata": {
        "id": "FVmP0uOFFJEA"
      },
      "outputs": [],
      "source": [
        "trainLoader = DataLoader(trainData, 64, shuffle=True, num_workers=os.cpu_count(), pin_memory=True)\n",
        "testLoader = DataLoader(testData, 64, shuffle=False, num_workers=os.cpu_count(), pin_memory=True)\n",
        "trainLoaderMini = DataLoader(trainDataMini, 64, shuffle=True, num_workers=os.cpu_count(), pin_memory=True)\n",
        "testLoaderMini = DataLoader(testDataMini, 64, shuffle=False, num_workers=os.cpu_count(), pin_memory=True)"
      ]
    },
    {
      "cell_type": "code",
      "execution_count": null,
      "metadata": {
        "id": "Z2nhs4oINvY4"
      },
      "outputs": [],
      "source": [
        "import time\n",
        "from tqdm.auto import tqdm\n",
        "from google.colab import drive\n",
        "import shutil\n",
        "\n",
        "def train(model, trainLoader, testLoader, lossFn, optimizer, scheduler, epochs=25):\n",
        "  since = time.time()\n",
        "\n",
        "  for epoch in range(epochs):\n",
        "    print(f\"Epoch {epoch + 1}/{epochs}\")\n",
        "    print('-' * 10)\n",
        "\n",
        "  # Training the model\n",
        "    model.train()\n",
        "\n",
        "    trainLoss, trainAcc = 0, 0\n",
        "\n",
        "    print(len(trainLoader))\n",
        "    for batch, (X, y) in tqdm(enumerate(trainLoader)):\n",
        "      X, y = X.to(device), y.to(device)\n",
        "\n",
        "      yPred = model(X)\n",
        "\n",
        "      loss = lossFn(yPred, y)\n",
        "\n",
        "      optimizer.zero_grad(set_to_none=True)\n",
        "      loss.backward()\n",
        "      optimizer.step()\n",
        "\n",
        "      yPredClass = torch.argmax(torch.softmax(yPred, dim=1), dim=1)\n",
        "      trainAcc += (yPredClass == y).sum().item()/len(yPred)\n",
        "\n",
        "    trainAcc /= len(trainLoader)\n",
        "\n",
        "    #Test\n",
        "    model.eval()\n",
        "\n",
        "    testLoss, testAcc = 0, 0\n",
        "\n",
        "    with torch.inference_mode():\n",
        "      for batch, (X, y) in tqdm(enumerate(testLoader)):\n",
        "        X, y = X.to(device), y.to(device)\n",
        "\n",
        "        testPredLogits = model(X)\n",
        "\n",
        "        loss = lossFn(testPredLogits, y)\n",
        "        testLoss += loss.item()\n",
        "\n",
        "        testPredLabels = testPredLogits.argmax(dim=1)\n",
        "        testAcc += ((testPredLabels == y).sum().item()/len(testPredLabels))\n",
        "\n",
        "    testLoss /= len(testLoader)\n",
        "    testAcc /= len(testLoader)\n",
        "\n",
        "    print(f\"TrainAcc: {trainAcc:.4f} Loss: {testLoss:.4f} Acc: {testAcc:.4f}\")\n",
        "\n",
        "    timeElapsed = time.time() - since\n",
        "    print(f\"Training Complete in {timeElapsed // 60:.0f}m {timeElapsed % 60:.0f}s\")\n",
        "\n",
        "  try:\n",
        "    if not os.path.exists(\"models\"):\n",
        "      os.mkdir(\"models\")\n",
        "    torch.save(model.state_dict(), f\"models/{model.name}_E{epochs}_{testAcc:.4f}%.pt\")\n",
        "    drive.mount(\"/content/drive\")\n",
        "    dest = '/content/drive/MyDrive/models'\n",
        "    if(os.path.exists(dest)):\n",
        "      shutil.rmtree(dest)\n",
        "    shutil.copytree(\"models\",dest)\n",
        "  except:\n",
        "    print(\"Couldnt copy files to google drive\")\n",
        "  return model"
      ]
    },
    {
      "cell_type": "code",
      "execution_count": null,
      "metadata": {
        "id": "KXmv8BNPRkgp"
      },
      "outputs": [],
      "source": [
        "from torch import nn\n",
        "from torchvision import models\n",
        "\n",
        "!pip install torchinfo\n",
        "from torchinfo import summary\n",
        "\n",
        "model = models.vit_b_16(weights=models.ViT_B_16_Weights.DEFAULT)\n",
        "model.name = \"vit_b_16\""
      ]
    },
    {
      "cell_type": "code",
      "source": [
        "model"
      ],
      "metadata": {
        "id": "hhwlPvar4wYO"
      },
      "execution_count": null,
      "outputs": []
    },
    {
      "cell_type": "code",
      "execution_count": null,
      "metadata": {
        "id": "tPkh7ISVZe7l"
      },
      "outputs": [],
      "source": [
        "for param in model.parameters():\n",
        "    param.requires_grad = False\n",
        "\n",
        "numFtrs = model.heads[0].in_features\n",
        "\n",
        "model.heads = nn.Sequential(nn.Linear(numFtrs, 101, bias = True))\n",
        "model = model.to(device)\n",
        "\n",
        "lossFn = nn.CrossEntropyLoss()\n",
        "\n",
        "optimizer = torch.optim.SGD(model.parameters(), lr = 0.001, momentum=0.9)\n",
        "\n",
        "scheduler = torch.optim.lr_scheduler.StepLR(optimizer, step_size=7, gamma=0.1)"
      ]
    },
    {
      "cell_type": "code",
      "execution_count": null,
      "metadata": {
        "id": "GPDsmxj67c77"
      },
      "outputs": [],
      "source": [
        "summary(model, (1,3,224,224))"
      ]
    },
    {
      "cell_type": "code",
      "execution_count": null,
      "metadata": {
        "id": "AmTUijCuTGrb"
      },
      "outputs": [],
      "source": [
        "model = train(model, trainLoader, testLoader, lossFn, optimizer, scheduler, 5)"
      ]
    },
    {
      "cell_type": "code",
      "source": [
        "!git remote remove origin"
      ],
      "metadata": {
        "id": "3VgnRbXSNL6_"
      },
      "execution_count": null,
      "outputs": []
    },
    {
      "cell_type": "code",
      "source": [
        "!git remote add origin git@github.com:Swaraj9/FIRS_Models.git"
      ],
      "metadata": {
        "id": "johRvLzVKAi3"
      },
      "execution_count": null,
      "outputs": []
    },
    {
      "cell_type": "code",
      "source": [
        "!git branch -M main"
      ],
      "metadata": {
        "id": "iB6A84MWKaMQ"
      },
      "execution_count": null,
      "outputs": []
    },
    {
      "cell_type": "code",
      "source": [
        "!git config --global user.email \"swaraj.dusane90@gmail.com\"\n",
        "!git config --global user.name \"Swaraj9\""
      ],
      "metadata": {
        "id": "jki-436TKlWk"
      },
      "execution_count": null,
      "outputs": []
    },
    {
      "cell_type": "code",
      "source": [
        "!git add .\n",
        "!git commit -m \"First Commit\""
      ],
      "metadata": {
        "id": "xeqDxqH5KeEd"
      },
      "execution_count": null,
      "outputs": []
    },
    {
      "cell_type": "code",
      "source": [
        "!git push -u origin main"
      ],
      "metadata": {
        "id": "5OJjeZwlK2dY",
        "outputId": "6eb86d32-8d9b-47e2-847d-5e160834dbc4",
        "colab": {
          "base_uri": "https://localhost:8080/"
        }
      },
      "execution_count": null,
      "outputs": [
        {
          "output_type": "stream",
          "name": "stdout",
          "text": [
            "fatal: could not read Username for 'https://github.com': No such device or address\n"
          ]
        }
      ]
    }
  ],
  "metadata": {
    "accelerator": "GPU",
    "colab": {
      "provenance": [],
      "toc_visible": true,
      "authorship_tag": "ABX9TyMWo7UpILFZftuoVOU3IXMO",
      "include_colab_link": true
    },
    "kernelspec": {
      "display_name": "Python 3",
      "name": "python3"
    },
    "language_info": {
      "name": "python"
    }
  },
  "nbformat": 4,
  "nbformat_minor": 0
}